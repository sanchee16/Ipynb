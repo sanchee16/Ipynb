{
 "cells": [
  {
   "cell_type": "code",
   "execution_count": 1,
   "metadata": {
    "collapsed": true
   },
   "outputs": [],
   "source": [
    "import numpy as np\n",
    "import pandas as pd"
   ]
  },
  {
   "cell_type": "code",
   "execution_count": 52,
   "metadata": {
    "collapsed": false
   },
   "outputs": [
    {
     "name": "stdout",
     "output_type": "stream",
     "text": [
      "Scalar: 12.0\n",
      "Vector: \n",
      "a    12\n",
      "b    17\n",
      "c    83\n",
      "dtype: int64\n",
      "Matrix: \n",
      "   a  b\n",
      "0  1  4\n",
      "1  2  5\n",
      "Tensor: \n",
      "   a  b  c\n",
      "0  1  4  2\n",
      "1  2  5  3\n",
      "2  3  6  7\n"
     ]
    }
   ],
   "source": [
    "# Scalar\n",
    "scalar = 12.0\n",
    "print ('{}: {}').format(\"Scalar\", scalar) \n",
    "\n",
    "# Vector \n",
    "vector = pd.Series([12, 17, 83], index=[\"a\", \"b\", \"c\"])\n",
    "print ('{}: \\n{}').format(\"Vector\", vector) \n",
    "\n",
    "# Matrix \n",
    "matrix = pd.DataFrame({\"a\":[1, 2], \"b\":[4, 5]})\n",
    "print ('{}: \\n{}').format(\"Matrix\", matrix)\n",
    "\n",
    "# Tensor\n",
    "tensor = pd.DataFrame({\"a\":[1, 2, 3], \"b\":[4, 5, 6], \"c\":[2, 3,7]})\n",
    "print ('{}: \\n{}').format(\"Tensor\", tensor)"
   ]
  },
  {
   "cell_type": "code",
   "execution_count": 53,
   "metadata": {
    "collapsed": false
   },
   "outputs": [
    {
     "data": {
      "text/plain": [
       "((3, 3), (3,))"
      ]
     },
     "execution_count": 53,
     "metadata": {},
     "output_type": "execute_result"
    }
   ],
   "source": [
    "# Transpose of tensor\n",
    "# tensor.transpose()\n",
    "\n",
    "# Addition of tensor and vector\n",
    "tensor.shape, vector.shape"
   ]
  },
  {
   "cell_type": "code",
   "execution_count": 58,
   "metadata": {
    "collapsed": false
   },
   "outputs": [
    {
     "name": "stdout",
     "output_type": "stream",
     "text": [
      "0    24\n",
      "1    46\n",
      "2    90\n",
      "dtype: int64\n"
     ]
    }
   ],
   "source": [
    "# Broadcasting example\n",
    "\n",
    "A = 12\n",
    "b = pd.Series([12, 34, 78])\n",
    "C = A+b\n",
    "print C"
   ]
  },
  {
   "cell_type": "code",
   "execution_count": null,
   "metadata": {
    "collapsed": false
   },
   "outputs": [],
   "source": []
  },
  {
   "cell_type": "code",
   "execution_count": null,
   "metadata": {
    "collapsed": true
   },
   "outputs": [],
   "source": []
  }
 ],
 "metadata": {
  "kernelspec": {
   "display_name": "Python 2",
   "language": "python",
   "name": "python2"
  },
  "language_info": {
   "codemirror_mode": {
    "name": "ipython",
    "version": 2
   },
   "file_extension": ".py",
   "mimetype": "text/x-python",
   "name": "python",
   "nbconvert_exporter": "python",
   "pygments_lexer": "ipython2",
   "version": "2.7.10"
  }
 },
 "nbformat": 4,
 "nbformat_minor": 0
}
